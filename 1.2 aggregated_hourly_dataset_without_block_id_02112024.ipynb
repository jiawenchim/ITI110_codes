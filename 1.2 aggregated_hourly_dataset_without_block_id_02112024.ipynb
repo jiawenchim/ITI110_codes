{
 "cells": [
  {
   "cell_type": "code",
   "execution_count": 1,
   "id": "7edfe51d-f9f7-4cd3-b68a-5a2e6359cb4d",
   "metadata": {
    "tags": []
   },
   "outputs": [],
   "source": [
    "import pandas as pd"
   ]
  },
  {
   "cell_type": "markdown",
   "id": "a5e6fc95-c4f8-4651-94dd-8514a939ea10",
   "metadata": {},
   "source": [
    "## Input: A single excel file which concatenated all blocks (112) halfhourly data, each row representing invidual block & LCLid halfhourly data (1 row represents one unique LCLid in one block)\n",
    "## Output: A single excel file, energy consumption aggregated by date and hour, LCLid aggregated as unique count per hour, block id aggregated as unique block per hour."
   ]
  },
  {
   "cell_type": "code",
   "execution_count": 2,
   "id": "1a865bf3-4858-475e-9358-5a8af7839532",
   "metadata": {
    "tags": []
   },
   "outputs": [],
   "source": [
    "destination_path = 'C:/Users/chiny/cjwen/ITI110/'\n"
   ]
  },
  {
   "cell_type": "code",
   "execution_count": 3,
   "id": "9bc57b7c-4e32-4f32-ab9e-6eaaddecc584",
   "metadata": {
    "tags": []
   },
   "outputs": [],
   "source": [
    "df = pd.read_csv(destination_path + \"Raw_data/concatenated_halfhourly_dataset.csv\")"
   ]
  },
  {
   "cell_type": "code",
   "execution_count": 4,
   "id": "3fc79722-401a-4f9e-945f-ed1ad4390910",
   "metadata": {
    "tags": []
   },
   "outputs": [
    {
     "data": {
      "text/html": [
       "<div>\n",
       "<style scoped>\n",
       "    .dataframe tbody tr th:only-of-type {\n",
       "        vertical-align: middle;\n",
       "    }\n",
       "\n",
       "    .dataframe tbody tr th {\n",
       "        vertical-align: top;\n",
       "    }\n",
       "\n",
       "    .dataframe thead th {\n",
       "        text-align: right;\n",
       "    }\n",
       "</style>\n",
       "<table border=\"1\" class=\"dataframe\">\n",
       "  <thead>\n",
       "    <tr style=\"text-align: right;\">\n",
       "      <th></th>\n",
       "      <th>LCLid</th>\n",
       "      <th>tstp</th>\n",
       "      <th>energy(kWh/hh)</th>\n",
       "      <th>block_id</th>\n",
       "    </tr>\n",
       "  </thead>\n",
       "  <tbody>\n",
       "    <tr>\n",
       "      <th>0</th>\n",
       "      <td>MAC000002</td>\n",
       "      <td>2012-10-12 00:30:00.0000000</td>\n",
       "      <td>0</td>\n",
       "      <td>block_0</td>\n",
       "    </tr>\n",
       "    <tr>\n",
       "      <th>1</th>\n",
       "      <td>MAC000002</td>\n",
       "      <td>2012-10-12 01:00:00.0000000</td>\n",
       "      <td>0</td>\n",
       "      <td>block_0</td>\n",
       "    </tr>\n",
       "    <tr>\n",
       "      <th>2</th>\n",
       "      <td>MAC000002</td>\n",
       "      <td>2012-10-12 01:30:00.0000000</td>\n",
       "      <td>0</td>\n",
       "      <td>block_0</td>\n",
       "    </tr>\n",
       "    <tr>\n",
       "      <th>3</th>\n",
       "      <td>MAC000002</td>\n",
       "      <td>2012-10-12 02:00:00.0000000</td>\n",
       "      <td>0</td>\n",
       "      <td>block_0</td>\n",
       "    </tr>\n",
       "    <tr>\n",
       "      <th>4</th>\n",
       "      <td>MAC000002</td>\n",
       "      <td>2012-10-12 02:30:00.0000000</td>\n",
       "      <td>0</td>\n",
       "      <td>block_0</td>\n",
       "    </tr>\n",
       "    <tr>\n",
       "      <th>...</th>\n",
       "      <td>...</td>\n",
       "      <td>...</td>\n",
       "      <td>...</td>\n",
       "      <td>...</td>\n",
       "    </tr>\n",
       "    <tr>\n",
       "      <th>167817016</th>\n",
       "      <td>MAC005019</td>\n",
       "      <td>2014-02-27 22:00:00.0000000</td>\n",
       "      <td>0.129</td>\n",
       "      <td>block_99</td>\n",
       "    </tr>\n",
       "    <tr>\n",
       "      <th>167817017</th>\n",
       "      <td>MAC005019</td>\n",
       "      <td>2014-02-27 22:30:00.0000000</td>\n",
       "      <td>0.095</td>\n",
       "      <td>block_99</td>\n",
       "    </tr>\n",
       "    <tr>\n",
       "      <th>167817018</th>\n",
       "      <td>MAC005019</td>\n",
       "      <td>2014-02-27 23:00:00.0000000</td>\n",
       "      <td>0.061</td>\n",
       "      <td>block_99</td>\n",
       "    </tr>\n",
       "    <tr>\n",
       "      <th>167817019</th>\n",
       "      <td>MAC005019</td>\n",
       "      <td>2014-02-27 23:30:00.0000000</td>\n",
       "      <td>0.054</td>\n",
       "      <td>block_99</td>\n",
       "    </tr>\n",
       "    <tr>\n",
       "      <th>167817020</th>\n",
       "      <td>MAC005019</td>\n",
       "      <td>2014-02-28 00:00:00.0000000</td>\n",
       "      <td>0.074</td>\n",
       "      <td>block_99</td>\n",
       "    </tr>\n",
       "  </tbody>\n",
       "</table>\n",
       "<p>167817021 rows × 4 columns</p>\n",
       "</div>"
      ],
      "text/plain": [
       "               LCLid                         tstp energy(kWh/hh)  block_id\n",
       "0          MAC000002  2012-10-12 00:30:00.0000000             0    block_0\n",
       "1          MAC000002  2012-10-12 01:00:00.0000000             0    block_0\n",
       "2          MAC000002  2012-10-12 01:30:00.0000000             0    block_0\n",
       "3          MAC000002  2012-10-12 02:00:00.0000000             0    block_0\n",
       "4          MAC000002  2012-10-12 02:30:00.0000000             0    block_0\n",
       "...              ...                          ...            ...       ...\n",
       "167817016  MAC005019  2014-02-27 22:00:00.0000000         0.129   block_99\n",
       "167817017  MAC005019  2014-02-27 22:30:00.0000000         0.095   block_99\n",
       "167817018  MAC005019  2014-02-27 23:00:00.0000000         0.061   block_99\n",
       "167817019  MAC005019  2014-02-27 23:30:00.0000000         0.054   block_99\n",
       "167817020  MAC005019  2014-02-28 00:00:00.0000000         0.074   block_99\n",
       "\n",
       "[167817021 rows x 4 columns]"
      ]
     },
     "execution_count": 4,
     "metadata": {},
     "output_type": "execute_result"
    }
   ],
   "source": [
    "df"
   ]
  },
  {
   "cell_type": "code",
   "execution_count": 5,
   "id": "d53919cc-7c02-4e23-906f-0dd837770fa7",
   "metadata": {
    "tags": []
   },
   "outputs": [],
   "source": [
    "# Remove outlier meters\n",
    "to_remove = ['MAC000004', \n",
    " 'MAC000037', \n",
    " 'MAC000197', \n",
    " 'MAC000325', \n",
    " 'MAC000399', \n",
    " 'MAC000895', \n",
    " 'MAC001309', \n",
    " 'MAC001976', \n",
    " 'MAC002050', \n",
    " 'MAC002110', \n",
    " 'MAC002136', \n",
    " 'MAC002564', \n",
    " 'MAC002594', \n",
    " 'MAC002858', \n",
    " 'MAC002873', \n",
    " 'MAC002976', \n",
    " 'MAC003156', \n",
    " 'MAC003327', \n",
    " 'MAC003627', \n",
    " 'MAC004067', \n",
    " 'MAC004672', \n",
    " 'MAC004731', \n",
    " 'MAC004735', \n",
    " 'MAC005033', \n",
    " 'MAC005069', \n",
    " 'MAC005313']"
   ]
  },
  {
   "cell_type": "code",
   "execution_count": 6,
   "id": "7151171d-9b4b-459e-b6bc-7893a310d788",
   "metadata": {
    "tags": []
   },
   "outputs": [],
   "source": [
    "df = df[~df[\"LCLid\"].isin(to_remove)] #remove outlier meters"
   ]
  },
  {
   "cell_type": "code",
   "execution_count": 9,
   "id": "a8d4bfd0-1ee9-4460-8ef0-64cd27d2b838",
   "metadata": {
    "tags": []
   },
   "outputs": [],
   "source": [
    "# df[df[\"LCLid\"]==\"MAC000004\"]"
   ]
  },
  {
   "cell_type": "code",
   "execution_count": 10,
   "id": "5d2011f4-1979-4b0a-8744-5edf199ea1e2",
   "metadata": {
    "tags": []
   },
   "outputs": [
    {
     "name": "stderr",
     "output_type": "stream",
     "text": [
      "C:\\Users\\chiny\\AppData\\Local\\Temp\\ipykernel_91104\\1440308734.py:2: SettingWithCopyWarning: \n",
      "A value is trying to be set on a copy of a slice from a DataFrame.\n",
      "Try using .loc[row_indexer,col_indexer] = value instead\n",
      "\n",
      "See the caveats in the documentation: https://pandas.pydata.org/pandas-docs/stable/user_guide/indexing.html#returning-a-view-versus-a-copy\n",
      "  df['energy(kWh/hh)'] = pd.to_numeric(df['energy(kWh/hh)'], errors='coerce')\n",
      "C:\\Users\\chiny\\AppData\\Local\\Temp\\ipykernel_91104\\1440308734.py:3: SettingWithCopyWarning: \n",
      "A value is trying to be set on a copy of a slice from a DataFrame.\n",
      "Try using .loc[row_indexer,col_indexer] = value instead\n",
      "\n",
      "See the caveats in the documentation: https://pandas.pydata.org/pandas-docs/stable/user_guide/indexing.html#returning-a-view-versus-a-copy\n",
      "  df['tstp'] = pd.to_datetime(df['tstp'])\n"
     ]
    }
   ],
   "source": [
    "#Format data\n",
    "df['energy(kWh/hh)'] = pd.to_numeric(df['energy(kWh/hh)'], errors='coerce')\n",
    "df['tstp'] = pd.to_datetime(df['tstp'])"
   ]
  },
  {
   "cell_type": "code",
   "execution_count": 11,
   "id": "a0bc518b-069e-4a03-9589-27aae267251d",
   "metadata": {
    "tags": []
   },
   "outputs": [
    {
     "name": "stderr",
     "output_type": "stream",
     "text": [
      "C:\\Users\\chiny\\AppData\\Local\\Temp\\ipykernel_91104\\2912657088.py:2: SettingWithCopyWarning: \n",
      "A value is trying to be set on a copy of a slice from a DataFrame.\n",
      "Try using .loc[row_indexer,col_indexer] = value instead\n",
      "\n",
      "See the caveats in the documentation: https://pandas.pydata.org/pandas-docs/stable/user_guide/indexing.html#returning-a-view-versus-a-copy\n",
      "  df[\"date\"] = df[\"tstp\"].dt.date\n",
      "C:\\Users\\chiny\\AppData\\Local\\Temp\\ipykernel_91104\\2912657088.py:3: SettingWithCopyWarning: \n",
      "A value is trying to be set on a copy of a slice from a DataFrame.\n",
      "Try using .loc[row_indexer,col_indexer] = value instead\n",
      "\n",
      "See the caveats in the documentation: https://pandas.pydata.org/pandas-docs/stable/user_guide/indexing.html#returning-a-view-versus-a-copy\n",
      "  df[\"month\"]= df[\"tstp\"].dt.month\n",
      "C:\\Users\\chiny\\AppData\\Local\\Temp\\ipykernel_91104\\2912657088.py:4: SettingWithCopyWarning: \n",
      "A value is trying to be set on a copy of a slice from a DataFrame.\n",
      "Try using .loc[row_indexer,col_indexer] = value instead\n",
      "\n",
      "See the caveats in the documentation: https://pandas.pydata.org/pandas-docs/stable/user_guide/indexing.html#returning-a-view-versus-a-copy\n",
      "  df[\"hour\"]= df[\"tstp\"].dt.hour\n"
     ]
    }
   ],
   "source": [
    "#extract time features\n",
    "df[\"date\"] = df[\"tstp\"].dt.date\n",
    "df[\"month\"]= df[\"tstp\"].dt.month\n",
    "df[\"hour\"]= df[\"tstp\"].dt.hour"
   ]
  },
  {
   "cell_type": "code",
   "execution_count": 13,
   "id": "e9dbc1a9-9d45-4630-a871-d17c81a4b85c",
   "metadata": {
    "tags": []
   },
   "outputs": [
    {
     "name": "stdout",
     "output_type": "stream",
     "text": [
      "<class 'pandas.core.frame.DataFrame'>\n",
      "Index: 167068985 entries, 0 to 167817020\n",
      "Data columns (total 7 columns):\n",
      " #   Column          Dtype         \n",
      "---  ------          -----         \n",
      " 0   LCLid           object        \n",
      " 1   tstp            datetime64[ns]\n",
      " 2   energy(kWh/hh)  float64       \n",
      " 3   block_id        object        \n",
      " 4   date            object        \n",
      " 5   month           int32         \n",
      " 6   hour            int32         \n",
      "dtypes: datetime64[ns](1), float64(1), int32(2), object(3)\n",
      "memory usage: 8.7+ GB\n"
     ]
    }
   ],
   "source": [
    "df.info()"
   ]
  },
  {
   "cell_type": "code",
   "execution_count": 14,
   "id": "39e69c5f-8a37-4b8e-a4e7-6661f9483989",
   "metadata": {
    "tags": []
   },
   "outputs": [],
   "source": [
    "agg_df = df.groupby(['date','hour']).agg({\n",
    "            'date': 'max',\n",
    "            'month':'max',\n",
    "            'hour': 'max',\n",
    "            'LCLid': lambda x: x.nunique(),\n",
    "            'block_id': lambda y: y.nunique(),\n",
    "            'energy(kWh/hh)': 'sum'\n",
    "        }).reset_index(drop=True)"
   ]
  },
  {
   "cell_type": "code",
   "execution_count": 21,
   "id": "dbb4c41d-9a19-42e3-b687-cd7e4243eb51",
   "metadata": {
    "tags": []
   },
   "outputs": [],
   "source": [
    "agg_df.rename(columns={\"LCLid\": \"count_LCLid\", \"block_id\": \"count_block_id\",\"energy(kWh/hh)\":\"sum_energy_by_hour\"},inplace=True)"
   ]
  },
  {
   "cell_type": "code",
   "execution_count": 23,
   "id": "5c8be2ea-d52b-4952-8cd8-90cfd8da3f8d",
   "metadata": {
    "tags": []
   },
   "outputs": [
    {
     "name": "stdout",
     "output_type": "stream",
     "text": [
      "<class 'pandas.core.frame.DataFrame'>\n",
      "Index: 19864 entries, 0 to 19863\n",
      "Data columns (total 6 columns):\n",
      " #   Column              Non-Null Count  Dtype  \n",
      "---  ------              --------------  -----  \n",
      " 0   date                19864 non-null  object \n",
      " 1   month               19864 non-null  int32  \n",
      " 2   hour                19864 non-null  int32  \n",
      " 3   count_LCLid         19864 non-null  int64  \n",
      " 4   count_block_id      19864 non-null  int64  \n",
      " 5   sum_energy_by_hour  19864 non-null  float64\n",
      "dtypes: float64(1), int32(2), int64(2), object(1)\n",
      "memory usage: 931.1+ KB\n"
     ]
    }
   ],
   "source": [
    "agg_df.info()"
   ]
  },
  {
   "cell_type": "code",
   "execution_count": 24,
   "id": "52812b1a-fc27-4087-8034-aa324f6ea800",
   "metadata": {
    "tags": []
   },
   "outputs": [
    {
     "data": {
      "text/plain": [
       "date                  0\n",
       "month                 0\n",
       "hour                  0\n",
       "count_LCLid           0\n",
       "count_block_id        0\n",
       "sum_energy_by_hour    0\n",
       "dtype: int64"
      ]
     },
     "execution_count": 24,
     "metadata": {},
     "output_type": "execute_result"
    }
   ],
   "source": [
    "agg_df.isnull().sum()"
   ]
  },
  {
   "cell_type": "code",
   "execution_count": 25,
   "id": "6a5afd35-20b8-4ed2-b447-78a730261fbf",
   "metadata": {
    "tags": []
   },
   "outputs": [],
   "source": [
    "#create a timestamp column\n",
    "agg_df[\"date\"]= agg_df[\"date\"].astype(str)\n",
    "agg_df['hour'] = agg_df['hour'].apply(lambda x: f\"{x:02d}\")\n",
    "agg_df['tstp'] = pd.to_datetime(agg_df['date'] + ' ' + agg_df['hour'] + ':00:00.0000000')"
   ]
  },
  {
   "cell_type": "code",
   "execution_count": 27,
   "id": "dc81c70c-1275-4448-84b6-8dccf0caf61b",
   "metadata": {
    "tags": []
   },
   "outputs": [
    {
     "name": "stdout",
     "output_type": "stream",
     "text": [
      "<class 'pandas.core.frame.DataFrame'>\n",
      "Index: 19864 entries, 0 to 19863\n",
      "Data columns (total 7 columns):\n",
      " #   Column              Non-Null Count  Dtype         \n",
      "---  ------              --------------  -----         \n",
      " 0   date                19864 non-null  object        \n",
      " 1   month               19864 non-null  int32         \n",
      " 2   hour                19864 non-null  object        \n",
      " 3   count_LCLid         19864 non-null  int64         \n",
      " 4   count_block_id      19864 non-null  int64         \n",
      " 5   sum_energy_by_hour  19864 non-null  float64       \n",
      " 6   tstp                19864 non-null  datetime64[ns]\n",
      "dtypes: datetime64[ns](1), float64(1), int32(1), int64(2), object(2)\n",
      "memory usage: 1.1+ MB\n"
     ]
    }
   ],
   "source": [
    "agg_df.info()"
   ]
  },
  {
   "cell_type": "code",
   "execution_count": 29,
   "id": "fbfa288c-a607-48ae-bfe8-52e9f7401787",
   "metadata": {
    "tags": []
   },
   "outputs": [
    {
     "data": {
      "text/plain": [
       "date\n",
       "2011-11-23       90.385000\n",
       "2011-11-24      213.412000\n",
       "2011-11-25      303.993000\n",
       "2011-11-26      420.976000\n",
       "2011-11-27      444.883001\n",
       "                  ...     \n",
       "2014-02-24    51962.457004\n",
       "2014-02-25    51386.567001\n",
       "2014-02-26    50907.022994\n",
       "2014-02-27    51647.284998\n",
       "2014-02-28     1042.087000\n",
       "Name: sum_energy_by_hour, Length: 829, dtype: float64"
      ]
     },
     "execution_count": 29,
     "metadata": {},
     "output_type": "execute_result"
    }
   ],
   "source": [
    "agg_df.groupby(\"date\")[\"sum_energy_by_hour\"].sum()"
   ]
  },
  {
   "cell_type": "code",
   "execution_count": 31,
   "id": "e055f612-5912-42e1-af15-5514b7ce4cb8",
   "metadata": {
    "tags": []
   },
   "outputs": [],
   "source": [
    "agg_df.to_csv(\"1.2 aggregated_hourly_dataset_without_block_id_02112024.csv\",index=False)"
   ]
  }
 ],
 "metadata": {
  "kernelspec": {
   "display_name": "Python 3 (ipykernel)",
   "language": "python",
   "name": "python3"
  },
  "language_info": {
   "codemirror_mode": {
    "name": "ipython",
    "version": 3
   },
   "file_extension": ".py",
   "mimetype": "text/x-python",
   "name": "python",
   "nbconvert_exporter": "python",
   "pygments_lexer": "ipython3",
   "version": "3.11.5"
  }
 },
 "nbformat": 4,
 "nbformat_minor": 5
}
