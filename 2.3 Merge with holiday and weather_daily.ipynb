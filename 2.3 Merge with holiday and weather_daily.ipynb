{
 "cells": [
  {
   "cell_type": "code",
   "execution_count": 29,
   "id": "1e4284ef-2305-4207-9e93-f7ed8fbfb7e5",
   "metadata": {
    "tags": []
   },
   "outputs": [],
   "source": [
    "import pandas as pd"
   ]
  },
  {
   "cell_type": "code",
   "execution_count": 30,
   "id": "d50ea093-501c-4172-9cf0-9a7414877d92",
   "metadata": {
    "tags": []
   },
   "outputs": [],
   "source": [
    "destination_path = 'C:/Users/chiny/cjwen/ITI110/'"
   ]
  },
  {
   "cell_type": "code",
   "execution_count": 31,
   "id": "5a536a86-9d80-4c27-900f-7ff8e119493c",
   "metadata": {
    "tags": []
   },
   "outputs": [],
   "source": [
    "df_1_3 = pd.read_csv(destination_path + '1.3 aggregated_daily_dataset_without_block_id_02112024.csv')"
   ]
  },
  {
   "cell_type": "code",
   "execution_count": 32,
   "id": "f17c5f4f-6981-4826-8aec-81db2c9b2044",
   "metadata": {
    "tags": []
   },
   "outputs": [],
   "source": [
    "df_1_3['date'] = pd.to_datetime(df_1_3['date'], format='%Y-%m-%d', errors='coerce')\n"
   ]
  },
  {
   "cell_type": "code",
   "execution_count": 33,
   "id": "f46e8c73-a06f-4bba-b44e-b9a86f972564",
   "metadata": {
    "tags": []
   },
   "outputs": [
    {
     "data": {
      "text/html": [
       "<div>\n",
       "<style scoped>\n",
       "    .dataframe tbody tr th:only-of-type {\n",
       "        vertical-align: middle;\n",
       "    }\n",
       "\n",
       "    .dataframe tbody tr th {\n",
       "        vertical-align: top;\n",
       "    }\n",
       "\n",
       "    .dataframe thead th {\n",
       "        text-align: right;\n",
       "    }\n",
       "</style>\n",
       "<table border=\"1\" class=\"dataframe\">\n",
       "  <thead>\n",
       "    <tr style=\"text-align: right;\">\n",
       "      <th></th>\n",
       "      <th>date</th>\n",
       "      <th>month</th>\n",
       "      <th>count_LCLid</th>\n",
       "      <th>count_block_id</th>\n",
       "      <th>sum_energy_by_day</th>\n",
       "    </tr>\n",
       "  </thead>\n",
       "  <tbody>\n",
       "    <tr>\n",
       "      <th>0</th>\n",
       "      <td>2011-11-23</td>\n",
       "      <td>11</td>\n",
       "      <td>13</td>\n",
       "      <td>9</td>\n",
       "      <td>90.385</td>\n",
       "    </tr>\n",
       "    <tr>\n",
       "      <th>1</th>\n",
       "      <td>2011-11-24</td>\n",
       "      <td>11</td>\n",
       "      <td>25</td>\n",
       "      <td>15</td>\n",
       "      <td>213.412</td>\n",
       "    </tr>\n",
       "  </tbody>\n",
       "</table>\n",
       "</div>"
      ],
      "text/plain": [
       "        date  month  count_LCLid  count_block_id  sum_energy_by_day\n",
       "0 2011-11-23     11           13               9             90.385\n",
       "1 2011-11-24     11           25              15            213.412"
      ]
     },
     "execution_count": 33,
     "metadata": {},
     "output_type": "execute_result"
    }
   ],
   "source": [
    "df_1_3.head(2)"
   ]
  },
  {
   "cell_type": "code",
   "execution_count": 54,
   "id": "67c28e6b-eae3-486c-99bb-1ad87e462c88",
   "metadata": {
    "tags": []
   },
   "outputs": [
    {
     "name": "stdout",
     "output_type": "stream",
     "text": [
      "<class 'pandas.core.frame.DataFrame'>\n",
      "RangeIndex: 829 entries, 0 to 828\n",
      "Data columns (total 6 columns):\n",
      " #   Column                Non-Null Count  Dtype         \n",
      "---  ------                --------------  -----         \n",
      " 0   date                  829 non-null    datetime64[ns]\n",
      " 1   month                 829 non-null    int64         \n",
      " 2   count_LCLid           829 non-null    int64         \n",
      " 3   count_block_id        829 non-null    int64         \n",
      " 4   sum_energy_by_day     829 non-null    float64       \n",
      " 5   avg_energy_per_lclid  829 non-null    float64       \n",
      "dtypes: datetime64[ns](1), float64(2), int64(3)\n",
      "memory usage: 39.0 KB\n"
     ]
    }
   ],
   "source": [
    "df_1_3.info()"
   ]
  },
  {
   "cell_type": "code",
   "execution_count": 34,
   "id": "779d4d4b-dba4-4f69-a611-3267edc0ebc3",
   "metadata": {
    "tags": []
   },
   "outputs": [],
   "source": [
    "df_1_3[\"avg_energy_per_lclid\"]=df_1_3[\"sum_energy_by_day\"]/df_1_3[\"count_LCLid\"]"
   ]
  },
  {
   "cell_type": "code",
   "execution_count": 35,
   "id": "a416efdd-2f0e-412e-b23d-40c8b676b0da",
   "metadata": {
    "tags": []
   },
   "outputs": [
    {
     "data": {
      "text/html": [
       "<div>\n",
       "<style scoped>\n",
       "    .dataframe tbody tr th:only-of-type {\n",
       "        vertical-align: middle;\n",
       "    }\n",
       "\n",
       "    .dataframe tbody tr th {\n",
       "        vertical-align: top;\n",
       "    }\n",
       "\n",
       "    .dataframe thead th {\n",
       "        text-align: right;\n",
       "    }\n",
       "</style>\n",
       "<table border=\"1\" class=\"dataframe\">\n",
       "  <thead>\n",
       "    <tr style=\"text-align: right;\">\n",
       "      <th></th>\n",
       "      <th>date</th>\n",
       "      <th>month</th>\n",
       "      <th>count_LCLid</th>\n",
       "      <th>count_block_id</th>\n",
       "      <th>sum_energy_by_day</th>\n",
       "      <th>avg_energy_per_lclid</th>\n",
       "    </tr>\n",
       "  </thead>\n",
       "  <tbody>\n",
       "    <tr>\n",
       "      <th>0</th>\n",
       "      <td>2011-11-23</td>\n",
       "      <td>11</td>\n",
       "      <td>13</td>\n",
       "      <td>9</td>\n",
       "      <td>90.385</td>\n",
       "      <td>6.952692</td>\n",
       "    </tr>\n",
       "    <tr>\n",
       "      <th>1</th>\n",
       "      <td>2011-11-24</td>\n",
       "      <td>11</td>\n",
       "      <td>25</td>\n",
       "      <td>15</td>\n",
       "      <td>213.412</td>\n",
       "      <td>8.536480</td>\n",
       "    </tr>\n",
       "  </tbody>\n",
       "</table>\n",
       "</div>"
      ],
      "text/plain": [
       "        date  month  count_LCLid  count_block_id  sum_energy_by_day  \\\n",
       "0 2011-11-23     11           13               9             90.385   \n",
       "1 2011-11-24     11           25              15            213.412   \n",
       "\n",
       "   avg_energy_per_lclid  \n",
       "0              6.952692  \n",
       "1              8.536480  "
      ]
     },
     "execution_count": 35,
     "metadata": {},
     "output_type": "execute_result"
    }
   ],
   "source": [
    "df_1_3.head(2)"
   ]
  },
  {
   "cell_type": "code",
   "execution_count": 36,
   "id": "45f0576d-e799-4cca-8cdd-7cd1c9889c79",
   "metadata": {
    "tags": []
   },
   "outputs": [],
   "source": [
    "holidays = pd.read_csv(destination_path + \"Raw_data/uk_bank_holidays.csv\")"
   ]
  },
  {
   "cell_type": "code",
   "execution_count": 37,
   "id": "4ae8f906-8e2e-4a80-82e4-2558b54d2848",
   "metadata": {
    "tags": []
   },
   "outputs": [],
   "source": [
    "holidays[\"holiday\"]=1"
   ]
  },
  {
   "cell_type": "code",
   "execution_count": 38,
   "id": "64ada75e-6ed5-42ea-8555-bf46967e120d",
   "metadata": {
    "tags": []
   },
   "outputs": [
    {
     "data": {
      "text/html": [
       "<div>\n",
       "<style scoped>\n",
       "    .dataframe tbody tr th:only-of-type {\n",
       "        vertical-align: middle;\n",
       "    }\n",
       "\n",
       "    .dataframe tbody tr th {\n",
       "        vertical-align: top;\n",
       "    }\n",
       "\n",
       "    .dataframe thead th {\n",
       "        text-align: right;\n",
       "    }\n",
       "</style>\n",
       "<table border=\"1\" class=\"dataframe\">\n",
       "  <thead>\n",
       "    <tr style=\"text-align: right;\">\n",
       "      <th></th>\n",
       "      <th>Bank holidays</th>\n",
       "      <th>Type</th>\n",
       "      <th>holiday</th>\n",
       "    </tr>\n",
       "  </thead>\n",
       "  <tbody>\n",
       "    <tr>\n",
       "      <th>0</th>\n",
       "      <td>2012-12-26</td>\n",
       "      <td>Boxing Day</td>\n",
       "      <td>1</td>\n",
       "    </tr>\n",
       "    <tr>\n",
       "      <th>1</th>\n",
       "      <td>2012-12-25</td>\n",
       "      <td>Christmas Day</td>\n",
       "      <td>1</td>\n",
       "    </tr>\n",
       "    <tr>\n",
       "      <th>2</th>\n",
       "      <td>2012-08-27</td>\n",
       "      <td>Summer bank holiday</td>\n",
       "      <td>1</td>\n",
       "    </tr>\n",
       "    <tr>\n",
       "      <th>3</th>\n",
       "      <td>2012-05-06</td>\n",
       "      <td>Queen?s Diamond Jubilee (extra bank holiday)</td>\n",
       "      <td>1</td>\n",
       "    </tr>\n",
       "    <tr>\n",
       "      <th>4</th>\n",
       "      <td>2012-04-06</td>\n",
       "      <td>Spring bank holiday (substitute day)</td>\n",
       "      <td>1</td>\n",
       "    </tr>\n",
       "    <tr>\n",
       "      <th>5</th>\n",
       "      <td>2012-07-05</td>\n",
       "      <td>Early May bank holiday</td>\n",
       "      <td>1</td>\n",
       "    </tr>\n",
       "    <tr>\n",
       "      <th>6</th>\n",
       "      <td>2012-09-04</td>\n",
       "      <td>Easter Monday</td>\n",
       "      <td>1</td>\n",
       "    </tr>\n",
       "    <tr>\n",
       "      <th>7</th>\n",
       "      <td>2012-06-04</td>\n",
       "      <td>Good Friday</td>\n",
       "      <td>1</td>\n",
       "    </tr>\n",
       "    <tr>\n",
       "      <th>8</th>\n",
       "      <td>2012-02-01</td>\n",
       "      <td>New Year?s Day (substitute day)</td>\n",
       "      <td>1</td>\n",
       "    </tr>\n",
       "    <tr>\n",
       "      <th>9</th>\n",
       "      <td>2013-12-26</td>\n",
       "      <td>Boxing Day</td>\n",
       "      <td>1</td>\n",
       "    </tr>\n",
       "    <tr>\n",
       "      <th>10</th>\n",
       "      <td>2013-12-25</td>\n",
       "      <td>Christmas Day</td>\n",
       "      <td>1</td>\n",
       "    </tr>\n",
       "    <tr>\n",
       "      <th>11</th>\n",
       "      <td>2013-08-26</td>\n",
       "      <td>Summer bank holiday</td>\n",
       "      <td>1</td>\n",
       "    </tr>\n",
       "    <tr>\n",
       "      <th>12</th>\n",
       "      <td>2013-05-27</td>\n",
       "      <td>Spring bank holiday</td>\n",
       "      <td>1</td>\n",
       "    </tr>\n",
       "    <tr>\n",
       "      <th>13</th>\n",
       "      <td>2013-06-05</td>\n",
       "      <td>Early May bank holiday</td>\n",
       "      <td>1</td>\n",
       "    </tr>\n",
       "    <tr>\n",
       "      <th>14</th>\n",
       "      <td>2013-01-04</td>\n",
       "      <td>Easter Monday</td>\n",
       "      <td>1</td>\n",
       "    </tr>\n",
       "    <tr>\n",
       "      <th>15</th>\n",
       "      <td>2013-03-29</td>\n",
       "      <td>Good Friday</td>\n",
       "      <td>1</td>\n",
       "    </tr>\n",
       "    <tr>\n",
       "      <th>16</th>\n",
       "      <td>2013-01-01</td>\n",
       "      <td>New Year?s Day</td>\n",
       "      <td>1</td>\n",
       "    </tr>\n",
       "    <tr>\n",
       "      <th>17</th>\n",
       "      <td>2014-12-26</td>\n",
       "      <td>Boxing Day</td>\n",
       "      <td>1</td>\n",
       "    </tr>\n",
       "    <tr>\n",
       "      <th>18</th>\n",
       "      <td>2014-12-25</td>\n",
       "      <td>Christmas Day</td>\n",
       "      <td>1</td>\n",
       "    </tr>\n",
       "    <tr>\n",
       "      <th>19</th>\n",
       "      <td>2014-08-25</td>\n",
       "      <td>Summer bank holiday</td>\n",
       "      <td>1</td>\n",
       "    </tr>\n",
       "    <tr>\n",
       "      <th>20</th>\n",
       "      <td>2014-05-26</td>\n",
       "      <td>Spring bank holiday</td>\n",
       "      <td>1</td>\n",
       "    </tr>\n",
       "    <tr>\n",
       "      <th>21</th>\n",
       "      <td>2014-05-05</td>\n",
       "      <td>Early May bank holiday</td>\n",
       "      <td>1</td>\n",
       "    </tr>\n",
       "    <tr>\n",
       "      <th>22</th>\n",
       "      <td>2014-04-21</td>\n",
       "      <td>Easter Monday</td>\n",
       "      <td>1</td>\n",
       "    </tr>\n",
       "    <tr>\n",
       "      <th>23</th>\n",
       "      <td>2014-04-18</td>\n",
       "      <td>Good Friday</td>\n",
       "      <td>1</td>\n",
       "    </tr>\n",
       "    <tr>\n",
       "      <th>24</th>\n",
       "      <td>2014-01-01</td>\n",
       "      <td>New Year?s Day</td>\n",
       "      <td>1</td>\n",
       "    </tr>\n",
       "  </tbody>\n",
       "</table>\n",
       "</div>"
      ],
      "text/plain": [
       "   Bank holidays                                          Type  holiday\n",
       "0     2012-12-26                                    Boxing Day        1\n",
       "1     2012-12-25                                 Christmas Day        1\n",
       "2     2012-08-27                           Summer bank holiday        1\n",
       "3     2012-05-06  Queen?s Diamond Jubilee (extra bank holiday)        1\n",
       "4     2012-04-06          Spring bank holiday (substitute day)        1\n",
       "5     2012-07-05                        Early May bank holiday        1\n",
       "6     2012-09-04                                 Easter Monday        1\n",
       "7     2012-06-04                                   Good Friday        1\n",
       "8     2012-02-01               New Year?s Day (substitute day)        1\n",
       "9     2013-12-26                                    Boxing Day        1\n",
       "10    2013-12-25                                 Christmas Day        1\n",
       "11    2013-08-26                           Summer bank holiday        1\n",
       "12    2013-05-27                           Spring bank holiday        1\n",
       "13    2013-06-05                        Early May bank holiday        1\n",
       "14    2013-01-04                                 Easter Monday        1\n",
       "15    2013-03-29                                   Good Friday        1\n",
       "16    2013-01-01                                New Year?s Day        1\n",
       "17    2014-12-26                                    Boxing Day        1\n",
       "18    2014-12-25                                 Christmas Day        1\n",
       "19    2014-08-25                           Summer bank holiday        1\n",
       "20    2014-05-26                           Spring bank holiday        1\n",
       "21    2014-05-05                        Early May bank holiday        1\n",
       "22    2014-04-21                                 Easter Monday        1\n",
       "23    2014-04-18                                   Good Friday        1\n",
       "24    2014-01-01                                New Year?s Day        1"
      ]
     },
     "execution_count": 38,
     "metadata": {},
     "output_type": "execute_result"
    }
   ],
   "source": [
    "holidays"
   ]
  },
  {
   "cell_type": "code",
   "execution_count": 39,
   "id": "2f313cad-bd79-4921-8e20-5a3a8d041dcf",
   "metadata": {
    "tags": []
   },
   "outputs": [],
   "source": [
    "holidays[\"Bank holidays\"] = pd.to_datetime(holidays[\"Bank holidays\"], format='%Y-%m-%d', errors='coerce')"
   ]
  },
  {
   "cell_type": "code",
   "execution_count": 40,
   "id": "83611cdf-af8c-4ee6-b3af-c39f525d4aee",
   "metadata": {
    "tags": []
   },
   "outputs": [
    {
     "name": "stdout",
     "output_type": "stream",
     "text": [
      "<class 'pandas.core.frame.DataFrame'>\n",
      "RangeIndex: 25 entries, 0 to 24\n",
      "Data columns (total 3 columns):\n",
      " #   Column         Non-Null Count  Dtype         \n",
      "---  ------         --------------  -----         \n",
      " 0   Bank holidays  25 non-null     datetime64[ns]\n",
      " 1   Type           25 non-null     object        \n",
      " 2   holiday        25 non-null     int64         \n",
      "dtypes: datetime64[ns](1), int64(1), object(1)\n",
      "memory usage: 732.0+ bytes\n"
     ]
    }
   ],
   "source": [
    "holidays.info()"
   ]
  },
  {
   "cell_type": "code",
   "execution_count": 41,
   "id": "54c19f14-0b87-4492-b15e-3c68075e53d7",
   "metadata": {
    "tags": []
   },
   "outputs": [],
   "source": [
    "df_1_3_merge_hols = pd.merge(df_1_3, holidays, left_on = \"date\", right_on = \"Bank holidays\", how = \"left\")\n"
   ]
  },
  {
   "cell_type": "code",
   "execution_count": 42,
   "id": "102135bc-fc30-46be-85da-b627d46dd7e9",
   "metadata": {
    "tags": []
   },
   "outputs": [],
   "source": [
    "df_1_3_merge_hols[\"holiday\"].fillna(0,inplace=True) "
   ]
  },
  {
   "cell_type": "code",
   "execution_count": 43,
   "id": "457eac80-6429-4cc7-96d3-98477dda9f73",
   "metadata": {
    "tags": []
   },
   "outputs": [
    {
     "data": {
      "text/html": [
       "<div>\n",
       "<style scoped>\n",
       "    .dataframe tbody tr th:only-of-type {\n",
       "        vertical-align: middle;\n",
       "    }\n",
       "\n",
       "    .dataframe tbody tr th {\n",
       "        vertical-align: top;\n",
       "    }\n",
       "\n",
       "    .dataframe thead th {\n",
       "        text-align: right;\n",
       "    }\n",
       "</style>\n",
       "<table border=\"1\" class=\"dataframe\">\n",
       "  <thead>\n",
       "    <tr style=\"text-align: right;\">\n",
       "      <th></th>\n",
       "      <th>date</th>\n",
       "      <th>month</th>\n",
       "      <th>count_LCLid</th>\n",
       "      <th>count_block_id</th>\n",
       "      <th>sum_energy_by_day</th>\n",
       "      <th>avg_energy_per_lclid</th>\n",
       "      <th>Bank holidays</th>\n",
       "      <th>Type</th>\n",
       "      <th>holiday</th>\n",
       "    </tr>\n",
       "  </thead>\n",
       "  <tbody>\n",
       "    <tr>\n",
       "      <th>763</th>\n",
       "      <td>2013-12-25</td>\n",
       "      <td>12</td>\n",
       "      <td>5082</td>\n",
       "      <td>112</td>\n",
       "      <td>63990.164991</td>\n",
       "      <td>12.591532</td>\n",
       "      <td>2013-12-25</td>\n",
       "      <td>Christmas Day</td>\n",
       "      <td>1.0</td>\n",
       "    </tr>\n",
       "  </tbody>\n",
       "</table>\n",
       "</div>"
      ],
      "text/plain": [
       "          date  month  count_LCLid  count_block_id  sum_energy_by_day  \\\n",
       "763 2013-12-25     12         5082             112       63990.164991   \n",
       "\n",
       "     avg_energy_per_lclid Bank holidays           Type  holiday  \n",
       "763             12.591532    2013-12-25  Christmas Day      1.0  "
      ]
     },
     "execution_count": 43,
     "metadata": {},
     "output_type": "execute_result"
    }
   ],
   "source": [
    "df_1_3_merge_hols[df_1_3_merge_hols[\"date\"]== \"2013-12-25\"] "
   ]
  },
  {
   "cell_type": "code",
   "execution_count": 55,
   "id": "3fde45c8-fc73-4ad0-bda9-d785a92d5d9f",
   "metadata": {
    "tags": []
   },
   "outputs": [
    {
     "name": "stdout",
     "output_type": "stream",
     "text": [
      "<class 'pandas.core.frame.DataFrame'>\n",
      "RangeIndex: 829 entries, 0 to 828\n",
      "Data columns (total 7 columns):\n",
      " #   Column                Non-Null Count  Dtype         \n",
      "---  ------                --------------  -----         \n",
      " 0   date                  829 non-null    datetime64[ns]\n",
      " 1   month                 829 non-null    int64         \n",
      " 2   count_LCLid           829 non-null    int64         \n",
      " 3   count_block_id        829 non-null    int64         \n",
      " 4   sum_energy_by_day     829 non-null    float64       \n",
      " 5   avg_energy_per_lclid  829 non-null    float64       \n",
      " 6   holiday               829 non-null    float64       \n",
      "dtypes: datetime64[ns](1), float64(3), int64(3)\n",
      "memory usage: 45.5 KB\n"
     ]
    }
   ],
   "source": [
    "df_1_3_merge_hols.info()"
   ]
  },
  {
   "cell_type": "code",
   "execution_count": 44,
   "id": "dc6d35be-4986-4acf-8e07-2e7a59486964",
   "metadata": {
    "tags": []
   },
   "outputs": [],
   "source": [
    "columns_to_drop = [\"Bank holidays\", \"Type\"]\n",
    "df_1_3_merge_hols.drop(columns=columns_to_drop, axis=1, inplace=True)"
   ]
  },
  {
   "cell_type": "code",
   "execution_count": 45,
   "id": "9b7312d0-67d4-4eed-9287-e4898ff8232c",
   "metadata": {
    "tags": []
   },
   "outputs": [],
   "source": [
    "weather = pd.read_csv(destination_path + 'Raw_data/weather_daily_darksky.csv')"
   ]
  },
  {
   "cell_type": "code",
   "execution_count": 46,
   "id": "612d4951-74f5-4002-8805-ce47329817f1",
   "metadata": {
    "tags": []
   },
   "outputs": [
    {
     "name": "stdout",
     "output_type": "stream",
     "text": [
      "<class 'pandas.core.frame.DataFrame'>\n",
      "RangeIndex: 882 entries, 0 to 881\n",
      "Data columns (total 32 columns):\n",
      " #   Column                       Non-Null Count  Dtype  \n",
      "---  ------                       --------------  -----  \n",
      " 0   temperatureMax               882 non-null    float64\n",
      " 1   temperatureMaxTime           882 non-null    object \n",
      " 2   windBearing                  882 non-null    int64  \n",
      " 3   icon                         882 non-null    object \n",
      " 4   dewPoint                     882 non-null    float64\n",
      " 5   temperatureMinTime           882 non-null    object \n",
      " 6   cloudCover                   881 non-null    float64\n",
      " 7   windSpeed                    882 non-null    float64\n",
      " 8   pressure                     882 non-null    float64\n",
      " 9   apparentTemperatureMinTime   882 non-null    object \n",
      " 10  apparentTemperatureHigh      882 non-null    float64\n",
      " 11  precipType                   882 non-null    object \n",
      " 12  visibility                   882 non-null    float64\n",
      " 13  humidity                     882 non-null    float64\n",
      " 14  apparentTemperatureHighTime  882 non-null    object \n",
      " 15  apparentTemperatureLow       882 non-null    float64\n",
      " 16  apparentTemperatureMax       882 non-null    float64\n",
      " 17  uvIndex                      881 non-null    float64\n",
      " 18  time                         882 non-null    object \n",
      " 19  sunsetTime                   882 non-null    object \n",
      " 20  temperatureLow               882 non-null    float64\n",
      " 21  temperatureMin               882 non-null    float64\n",
      " 22  temperatureHigh              882 non-null    float64\n",
      " 23  sunriseTime                  882 non-null    object \n",
      " 24  temperatureHighTime          882 non-null    object \n",
      " 25  uvIndexTime                  881 non-null    object \n",
      " 26  summary                      882 non-null    object \n",
      " 27  temperatureLowTime           882 non-null    object \n",
      " 28  apparentTemperatureMin       882 non-null    float64\n",
      " 29  apparentTemperatureMaxTime   882 non-null    object \n",
      " 30  apparentTemperatureLowTime   882 non-null    object \n",
      " 31  moonPhase                    882 non-null    float64\n",
      "dtypes: float64(16), int64(1), object(15)\n",
      "memory usage: 220.6+ KB\n"
     ]
    }
   ],
   "source": [
    "weather.info()"
   ]
  },
  {
   "cell_type": "code",
   "execution_count": 48,
   "id": "022eb15d-0ced-44a1-bbef-71bfbbe1d4df",
   "metadata": {
    "tags": []
   },
   "outputs": [],
   "source": [
    "weather['time'] = pd.to_datetime(weather['time'], format='%Y-%m-%d', errors='coerce')\n"
   ]
  },
  {
   "cell_type": "code",
   "execution_count": 75,
   "id": "63e95ab8-3c31-4cfd-aadf-92a1750b463a",
   "metadata": {
    "tags": []
   },
   "outputs": [],
   "source": [
    "weather['day']=weather['time'].dt.date"
   ]
  },
  {
   "cell_type": "code",
   "execution_count": 80,
   "id": "a2b58f89-5e8b-400e-89de-00d2f4700ee5",
   "metadata": {
    "tags": []
   },
   "outputs": [],
   "source": [
    "weather['day'] =  pd.to_datetime(weather['day'], format='%Y-%m-%d', errors='coerce')"
   ]
  },
  {
   "cell_type": "code",
   "execution_count": 81,
   "id": "1260ddbb-2788-4648-86f8-d0458a96ae33",
   "metadata": {
    "tags": []
   },
   "outputs": [],
   "source": [
    "df_1_3_merged_df = pd.merge(df_1_3_merge_hols, weather, left_on = \"date\", right_on = \"day\", how = \"left\")"
   ]
  },
  {
   "cell_type": "code",
   "execution_count": 84,
   "id": "571fb991-3c98-4f5b-8720-7def2bf1f19f",
   "metadata": {
    "tags": []
   },
   "outputs": [
    {
     "name": "stdout",
     "output_type": "stream",
     "text": [
      "<class 'pandas.core.frame.DataFrame'>\n",
      "RangeIndex: 831 entries, 0 to 830\n",
      "Data columns (total 40 columns):\n",
      " #   Column                       Non-Null Count  Dtype         \n",
      "---  ------                       --------------  -----         \n",
      " 0   date                         831 non-null    datetime64[ns]\n",
      " 1   month                        831 non-null    int64         \n",
      " 2   count_LCLid                  831 non-null    int64         \n",
      " 3   count_block_id               831 non-null    int64         \n",
      " 4   sum_energy_by_day            831 non-null    float64       \n",
      " 5   avg_energy_per_lclid         831 non-null    float64       \n",
      " 6   holiday                      831 non-null    float64       \n",
      " 7   temperatureMax               829 non-null    float64       \n",
      " 8   temperatureMaxTime           829 non-null    object        \n",
      " 9   windBearing                  829 non-null    float64       \n",
      " 10  icon                         829 non-null    object        \n",
      " 11  dewPoint                     829 non-null    float64       \n",
      " 12  temperatureMinTime           829 non-null    object        \n",
      " 13  cloudCover                   828 non-null    float64       \n",
      " 14  windSpeed                    829 non-null    float64       \n",
      " 15  pressure                     829 non-null    float64       \n",
      " 16  apparentTemperatureMinTime   829 non-null    object        \n",
      " 17  apparentTemperatureHigh      829 non-null    float64       \n",
      " 18  precipType                   829 non-null    object        \n",
      " 19  visibility                   829 non-null    float64       \n",
      " 20  humidity                     829 non-null    float64       \n",
      " 21  apparentTemperatureHighTime  829 non-null    object        \n",
      " 22  apparentTemperatureLow       829 non-null    float64       \n",
      " 23  apparentTemperatureMax       829 non-null    float64       \n",
      " 24  uvIndex                      828 non-null    float64       \n",
      " 25  time                         829 non-null    datetime64[ns]\n",
      " 26  sunsetTime                   829 non-null    object        \n",
      " 27  temperatureLow               829 non-null    float64       \n",
      " 28  temperatureMin               829 non-null    float64       \n",
      " 29  temperatureHigh              829 non-null    float64       \n",
      " 30  sunriseTime                  829 non-null    object        \n",
      " 31  temperatureHighTime          829 non-null    object        \n",
      " 32  uvIndexTime                  828 non-null    object        \n",
      " 33  summary                      829 non-null    object        \n",
      " 34  temperatureLowTime           829 non-null    object        \n",
      " 35  apparentTemperatureMin       829 non-null    float64       \n",
      " 36  apparentTemperatureMaxTime   829 non-null    object        \n",
      " 37  apparentTemperatureLowTime   829 non-null    object        \n",
      " 38  moonPhase                    829 non-null    float64       \n",
      " 39  day                          829 non-null    datetime64[ns]\n",
      "dtypes: datetime64[ns](3), float64(20), int64(3), object(14)\n",
      "memory usage: 259.8+ KB\n"
     ]
    }
   ],
   "source": [
    "df_1_3_merged_df.info()"
   ]
  },
  {
   "cell_type": "code",
   "execution_count": 82,
   "id": "cebcce6e-6cb1-40cd-ae74-6cadf28168fe",
   "metadata": {
    "tags": []
   },
   "outputs": [],
   "source": [
    "null_in_column = df_1_3_merged_df[df_1_3_merged_df['temperatureMax'].isnull()]"
   ]
  },
  {
   "cell_type": "code",
   "execution_count": 83,
   "id": "a8a8f9e2-8f6e-4cbd-95e5-eeb8994f806e",
   "metadata": {
    "tags": []
   },
   "outputs": [
    {
     "data": {
      "text/html": [
       "<div>\n",
       "<style scoped>\n",
       "    .dataframe tbody tr th:only-of-type {\n",
       "        vertical-align: middle;\n",
       "    }\n",
       "\n",
       "    .dataframe tbody tr th {\n",
       "        vertical-align: top;\n",
       "    }\n",
       "\n",
       "    .dataframe thead th {\n",
       "        text-align: right;\n",
       "    }\n",
       "</style>\n",
       "<table border=\"1\" class=\"dataframe\">\n",
       "  <thead>\n",
       "    <tr style=\"text-align: right;\">\n",
       "      <th></th>\n",
       "      <th>date</th>\n",
       "      <th>month</th>\n",
       "      <th>count_LCLid</th>\n",
       "      <th>count_block_id</th>\n",
       "      <th>sum_energy_by_day</th>\n",
       "      <th>avg_energy_per_lclid</th>\n",
       "      <th>holiday</th>\n",
       "      <th>temperatureMax</th>\n",
       "      <th>temperatureMaxTime</th>\n",
       "      <th>windBearing</th>\n",
       "      <th>...</th>\n",
       "      <th>sunriseTime</th>\n",
       "      <th>temperatureHighTime</th>\n",
       "      <th>uvIndexTime</th>\n",
       "      <th>summary</th>\n",
       "      <th>temperatureLowTime</th>\n",
       "      <th>apparentTemperatureMin</th>\n",
       "      <th>apparentTemperatureMaxTime</th>\n",
       "      <th>apparentTemperatureLowTime</th>\n",
       "      <th>moonPhase</th>\n",
       "      <th>day</th>\n",
       "    </tr>\n",
       "  </thead>\n",
       "  <tbody>\n",
       "    <tr>\n",
       "      <th>341</th>\n",
       "      <td>2012-10-28</td>\n",
       "      <td>10</td>\n",
       "      <td>5495</td>\n",
       "      <td>112</td>\n",
       "      <td>66554.868000</td>\n",
       "      <td>12.111896</td>\n",
       "      <td>0.0</td>\n",
       "      <td>NaN</td>\n",
       "      <td>NaN</td>\n",
       "      <td>NaN</td>\n",
       "      <td>...</td>\n",
       "      <td>NaN</td>\n",
       "      <td>NaN</td>\n",
       "      <td>NaN</td>\n",
       "      <td>NaN</td>\n",
       "      <td>NaN</td>\n",
       "      <td>NaN</td>\n",
       "      <td>NaN</td>\n",
       "      <td>NaN</td>\n",
       "      <td>NaN</td>\n",
       "      <td>NaT</td>\n",
       "    </tr>\n",
       "    <tr>\n",
       "      <th>706</th>\n",
       "      <td>2013-10-27</td>\n",
       "      <td>10</td>\n",
       "      <td>5171</td>\n",
       "      <td>112</td>\n",
       "      <td>52787.860997</td>\n",
       "      <td>10.208443</td>\n",
       "      <td>0.0</td>\n",
       "      <td>NaN</td>\n",
       "      <td>NaN</td>\n",
       "      <td>NaN</td>\n",
       "      <td>...</td>\n",
       "      <td>NaN</td>\n",
       "      <td>NaN</td>\n",
       "      <td>NaN</td>\n",
       "      <td>NaN</td>\n",
       "      <td>NaN</td>\n",
       "      <td>NaN</td>\n",
       "      <td>NaN</td>\n",
       "      <td>NaN</td>\n",
       "      <td>NaN</td>\n",
       "      <td>NaT</td>\n",
       "    </tr>\n",
       "  </tbody>\n",
       "</table>\n",
       "<p>2 rows × 40 columns</p>\n",
       "</div>"
      ],
      "text/plain": [
       "          date  month  count_LCLid  count_block_id  sum_energy_by_day  \\\n",
       "341 2012-10-28     10         5495             112       66554.868000   \n",
       "706 2013-10-27     10         5171             112       52787.860997   \n",
       "\n",
       "     avg_energy_per_lclid  holiday  temperatureMax temperatureMaxTime  \\\n",
       "341             12.111896      0.0             NaN                NaN   \n",
       "706             10.208443      0.0             NaN                NaN   \n",
       "\n",
       "     windBearing  ... sunriseTime  temperatureHighTime uvIndexTime  summary  \\\n",
       "341          NaN  ...         NaN                  NaN         NaN      NaN   \n",
       "706          NaN  ...         NaN                  NaN         NaN      NaN   \n",
       "\n",
       "     temperatureLowTime  apparentTemperatureMin apparentTemperatureMaxTime  \\\n",
       "341                 NaN                     NaN                        NaN   \n",
       "706                 NaN                     NaN                        NaN   \n",
       "\n",
       "     apparentTemperatureLowTime moonPhase  day  \n",
       "341                         NaN       NaN  NaT  \n",
       "706                         NaN       NaN  NaT  \n",
       "\n",
       "[2 rows x 40 columns]"
      ]
     },
     "execution_count": 83,
     "metadata": {},
     "output_type": "execute_result"
    }
   ],
   "source": [
    "null_in_column"
   ]
  },
  {
   "cell_type": "code",
   "execution_count": 85,
   "id": "778d6dcf-5082-4b00-9feb-d093a5470acd",
   "metadata": {
    "tags": []
   },
   "outputs": [],
   "source": [
    "df_1_3_merged_df.to_csv(destination_path + '2.3 merged_aggregated_daily_without_block_id.csv', index=False)"
   ]
  },
  {
   "cell_type": "code",
   "execution_count": null,
   "id": "fcd708b5-dc72-4087-9a87-a46bb2e75299",
   "metadata": {},
   "outputs": [],
   "source": []
  }
 ],
 "metadata": {
  "kernelspec": {
   "display_name": "Python 3 (ipykernel)",
   "language": "python",
   "name": "python3"
  },
  "language_info": {
   "codemirror_mode": {
    "name": "ipython",
    "version": 3
   },
   "file_extension": ".py",
   "mimetype": "text/x-python",
   "name": "python",
   "nbconvert_exporter": "python",
   "pygments_lexer": "ipython3",
   "version": "3.11.5"
  }
 },
 "nbformat": 4,
 "nbformat_minor": 5
}
