{
 "cells": [
  {
   "cell_type": "code",
   "execution_count": 1,
   "metadata": {
    "id": "MfpvlVQMFR1N",
    "tags": []
   },
   "outputs": [],
   "source": [
    "import pandas as pd\n",
    "import os\n",
    "import zipfile"
   ]
  },
  {
   "cell_type": "markdown",
   "metadata": {},
   "source": [
    "## Input: a file directory consisting list of csv files (total 112 files), each file representing invidual block halfhourly data, 1 row represents one unique LCLid\n",
    "\n",
    "## Output: A single excel file which concatenated all blocks (112) halfhourly data, each row representing invidual block & LCLid halfhourly data (1 row represents one unique LCLid in one block)"
   ]
  },
  {
   "cell_type": "markdown",
   "metadata": {
    "id": "whzX2BsDFBfR"
   },
   "source": [
    "# Unzip dataset"
   ]
  },
  {
   "cell_type": "code",
   "execution_count": 2,
   "metadata": {
    "tags": []
   },
   "outputs": [],
   "source": [
    "destination_path = 'C:/Users/chiny/cjwen/ITI110/'\n",
    "output = destination_path + 'Raw_data/halfhourly_dataset.zip'"
   ]
  },
  {
   "cell_type": "code",
   "execution_count": 3,
   "metadata": {
    "id": "lVr3xD0qDAbn",
    "tags": []
   },
   "outputs": [],
   "source": [
    "with zipfile.ZipFile(output, 'r') as zip_ref:\n",
    "    zip_ref.extractall(destination_path)"
   ]
  },
  {
   "cell_type": "markdown",
   "metadata": {},
   "source": [
    "# Concatenate all blocks data"
   ]
  },
  {
   "cell_type": "code",
   "execution_count": 4,
   "metadata": {
    "id": "7G24q5qiDbu7",
    "tags": []
   },
   "outputs": [],
   "source": [
    "folder = destination_path + \"halfhourly_dataset\""
   ]
  },
  {
   "cell_type": "code",
   "execution_count": 8,
   "metadata": {
    "tags": []
   },
   "outputs": [],
   "source": [
    "files_list = os.listdir(folder)"
   ]
  },
  {
   "cell_type": "code",
   "execution_count": 1,
   "metadata": {
    "tags": []
   },
   "outputs": [],
   "source": [
    "# for file in files_list: \n",
    "#     df = pd.read_csv(file)\n",
    "    "
   ]
  },
  {
   "cell_type": "code",
   "execution_count": 7,
   "metadata": {
    "id": "ojle-13nFlA1",
    "tags": []
   },
   "outputs": [],
   "source": [
    "dataframe = []"
   ]
  },
  {
   "cell_type": "code",
   "execution_count": 8,
   "metadata": {
    "colab": {
     "base_uri": "https://localhost:8080/"
    },
    "id": "c8BnJikxFyZz",
    "outputId": "d9e7812c-0c32-410c-eecc-84fbaee4f169",
    "tags": []
   },
   "outputs": [],
   "source": [
    "for filename in os.listdir(folder):\n",
    "  if filename.endswith(\".csv\"):\n",
    "    file_path = os.path.join(folder, filename)\n",
    "    df = pd.read_csv(file_path)\n",
    "    df[\"block_id\"] = str(filename.split('.')[0])\n",
    "    dataframe.append(df)"
   ]
  },
  {
   "cell_type": "code",
   "execution_count": 9,
   "metadata": {
    "id": "JrfiX3r0GVLC",
    "tags": []
   },
   "outputs": [
    {
     "data": {
      "text/html": [
       "<div>\n",
       "<style scoped>\n",
       "    .dataframe tbody tr th:only-of-type {\n",
       "        vertical-align: middle;\n",
       "    }\n",
       "\n",
       "    .dataframe tbody tr th {\n",
       "        vertical-align: top;\n",
       "    }\n",
       "\n",
       "    .dataframe thead th {\n",
       "        text-align: right;\n",
       "    }\n",
       "</style>\n",
       "<table border=\"1\" class=\"dataframe\">\n",
       "  <thead>\n",
       "    <tr style=\"text-align: right;\">\n",
       "      <th></th>\n",
       "      <th>LCLid</th>\n",
       "      <th>day</th>\n",
       "      <th>energy_median</th>\n",
       "      <th>energy_mean</th>\n",
       "      <th>energy_max</th>\n",
       "      <th>energy_count</th>\n",
       "      <th>energy_std</th>\n",
       "      <th>energy_sum</th>\n",
       "      <th>energy_min</th>\n",
       "      <th>block_id</th>\n",
       "    </tr>\n",
       "  </thead>\n",
       "  <tbody>\n",
       "    <tr>\n",
       "      <th>0</th>\n",
       "      <td>MAC000002</td>\n",
       "      <td>2012-10-12</td>\n",
       "      <td>0.1385</td>\n",
       "      <td>0.154304</td>\n",
       "      <td>0.886</td>\n",
       "      <td>46</td>\n",
       "      <td>0.196034</td>\n",
       "      <td>7.098</td>\n",
       "      <td>0.000</td>\n",
       "      <td>block_0</td>\n",
       "    </tr>\n",
       "    <tr>\n",
       "      <th>1</th>\n",
       "      <td>MAC000002</td>\n",
       "      <td>2012-10-13</td>\n",
       "      <td>0.1800</td>\n",
       "      <td>0.230979</td>\n",
       "      <td>0.933</td>\n",
       "      <td>48</td>\n",
       "      <td>0.192329</td>\n",
       "      <td>11.087</td>\n",
       "      <td>0.076</td>\n",
       "      <td>block_0</td>\n",
       "    </tr>\n",
       "    <tr>\n",
       "      <th>2</th>\n",
       "      <td>MAC000002</td>\n",
       "      <td>2012-10-14</td>\n",
       "      <td>0.1580</td>\n",
       "      <td>0.275479</td>\n",
       "      <td>1.085</td>\n",
       "      <td>48</td>\n",
       "      <td>0.274647</td>\n",
       "      <td>13.223</td>\n",
       "      <td>0.070</td>\n",
       "      <td>block_0</td>\n",
       "    </tr>\n",
       "    <tr>\n",
       "      <th>3</th>\n",
       "      <td>MAC000002</td>\n",
       "      <td>2012-10-15</td>\n",
       "      <td>0.1310</td>\n",
       "      <td>0.213688</td>\n",
       "      <td>1.164</td>\n",
       "      <td>48</td>\n",
       "      <td>0.224483</td>\n",
       "      <td>10.257</td>\n",
       "      <td>0.070</td>\n",
       "      <td>block_0</td>\n",
       "    </tr>\n",
       "    <tr>\n",
       "      <th>4</th>\n",
       "      <td>MAC000002</td>\n",
       "      <td>2012-10-16</td>\n",
       "      <td>0.1450</td>\n",
       "      <td>0.203521</td>\n",
       "      <td>0.991</td>\n",
       "      <td>48</td>\n",
       "      <td>0.184115</td>\n",
       "      <td>9.769</td>\n",
       "      <td>0.087</td>\n",
       "      <td>block_0</td>\n",
       "    </tr>\n",
       "    <tr>\n",
       "      <th>...</th>\n",
       "      <td>...</td>\n",
       "      <td>...</td>\n",
       "      <td>...</td>\n",
       "      <td>...</td>\n",
       "      <td>...</td>\n",
       "      <td>...</td>\n",
       "      <td>...</td>\n",
       "      <td>...</td>\n",
       "      <td>...</td>\n",
       "      <td>...</td>\n",
       "    </tr>\n",
       "    <tr>\n",
       "      <th>33541</th>\n",
       "      <td>MAC005019</td>\n",
       "      <td>2014-02-24</td>\n",
       "      <td>0.0915</td>\n",
       "      <td>0.091938</td>\n",
       "      <td>0.192</td>\n",
       "      <td>48</td>\n",
       "      <td>0.029466</td>\n",
       "      <td>4.413</td>\n",
       "      <td>0.046</td>\n",
       "      <td>block_99</td>\n",
       "    </tr>\n",
       "    <tr>\n",
       "      <th>33542</th>\n",
       "      <td>MAC005019</td>\n",
       "      <td>2014-02-25</td>\n",
       "      <td>0.0735</td>\n",
       "      <td>0.251104</td>\n",
       "      <td>1.455</td>\n",
       "      <td>48</td>\n",
       "      <td>0.369093</td>\n",
       "      <td>12.053</td>\n",
       "      <td>0.029</td>\n",
       "      <td>block_99</td>\n",
       "    </tr>\n",
       "    <tr>\n",
       "      <th>33543</th>\n",
       "      <td>MAC005019</td>\n",
       "      <td>2014-02-26</td>\n",
       "      <td>0.0740</td>\n",
       "      <td>0.117604</td>\n",
       "      <td>0.554</td>\n",
       "      <td>48</td>\n",
       "      <td>0.112632</td>\n",
       "      <td>5.645</td>\n",
       "      <td>0.031</td>\n",
       "      <td>block_99</td>\n",
       "    </tr>\n",
       "    <tr>\n",
       "      <th>33544</th>\n",
       "      <td>MAC005019</td>\n",
       "      <td>2014-02-27</td>\n",
       "      <td>0.0605</td>\n",
       "      <td>0.086521</td>\n",
       "      <td>0.449</td>\n",
       "      <td>48</td>\n",
       "      <td>0.076162</td>\n",
       "      <td>4.153</td>\n",
       "      <td>0.029</td>\n",
       "      <td>block_99</td>\n",
       "    </tr>\n",
       "    <tr>\n",
       "      <th>33545</th>\n",
       "      <td>MAC005019</td>\n",
       "      <td>2014-02-28</td>\n",
       "      <td>0.0740</td>\n",
       "      <td>0.074000</td>\n",
       "      <td>0.074</td>\n",
       "      <td>1</td>\n",
       "      <td>NaN</td>\n",
       "      <td>0.074</td>\n",
       "      <td>0.074</td>\n",
       "      <td>block_99</td>\n",
       "    </tr>\n",
       "  </tbody>\n",
       "</table>\n",
       "<p>3510433 rows × 10 columns</p>\n",
       "</div>"
      ],
      "text/plain": [
       "           LCLid         day  energy_median  energy_mean  energy_max  \\\n",
       "0      MAC000002  2012-10-12         0.1385     0.154304       0.886   \n",
       "1      MAC000002  2012-10-13         0.1800     0.230979       0.933   \n",
       "2      MAC000002  2012-10-14         0.1580     0.275479       1.085   \n",
       "3      MAC000002  2012-10-15         0.1310     0.213688       1.164   \n",
       "4      MAC000002  2012-10-16         0.1450     0.203521       0.991   \n",
       "...          ...         ...            ...          ...         ...   \n",
       "33541  MAC005019  2014-02-24         0.0915     0.091938       0.192   \n",
       "33542  MAC005019  2014-02-25         0.0735     0.251104       1.455   \n",
       "33543  MAC005019  2014-02-26         0.0740     0.117604       0.554   \n",
       "33544  MAC005019  2014-02-27         0.0605     0.086521       0.449   \n",
       "33545  MAC005019  2014-02-28         0.0740     0.074000       0.074   \n",
       "\n",
       "       energy_count  energy_std  energy_sum  energy_min  block_id  \n",
       "0                46    0.196034       7.098       0.000   block_0  \n",
       "1                48    0.192329      11.087       0.076   block_0  \n",
       "2                48    0.274647      13.223       0.070   block_0  \n",
       "3                48    0.224483      10.257       0.070   block_0  \n",
       "4                48    0.184115       9.769       0.087   block_0  \n",
       "...             ...         ...         ...         ...       ...  \n",
       "33541            48    0.029466       4.413       0.046  block_99  \n",
       "33542            48    0.369093      12.053       0.029  block_99  \n",
       "33543            48    0.112632       5.645       0.031  block_99  \n",
       "33544            48    0.076162       4.153       0.029  block_99  \n",
       "33545             1         NaN       0.074       0.074  block_99  \n",
       "\n",
       "[3510433 rows x 10 columns]"
      ]
     },
     "execution_count": 9,
     "metadata": {},
     "output_type": "execute_result"
    }
   ],
   "source": [
    "concatenated_df = pd.concat(dataframe)\n",
    "concatenated_df"
   ]
  },
  {
   "cell_type": "code",
   "execution_count": 10,
   "metadata": {
    "tags": []
   },
   "outputs": [],
   "source": [
    "concatenated_df.to_csv(destination_path + 'Raw_data/concatenated_daily_dataset.csv', index=False)\n"
   ]
  }
 ],
 "metadata": {
  "colab": {
   "provenance": []
  },
  "kernelspec": {
   "display_name": "Python 3 (ipykernel)",
   "language": "python",
   "name": "python3"
  },
  "language_info": {
   "codemirror_mode": {
    "name": "ipython",
    "version": 3
   },
   "file_extension": ".py",
   "mimetype": "text/x-python",
   "name": "python",
   "nbconvert_exporter": "python",
   "pygments_lexer": "ipython3",
   "version": "3.11.5"
  }
 },
 "nbformat": 4,
 "nbformat_minor": 4
}
