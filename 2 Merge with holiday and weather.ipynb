{
 "cells": [
  {
   "cell_type": "code",
   "execution_count": 1,
   "id": "582344d7-132c-4f9f-88d0-9697b59b227d",
   "metadata": {
    "tags": []
   },
   "outputs": [],
   "source": [
    "import pandas as pd"
   ]
  },
  {
   "cell_type": "markdown",
   "id": "055b7f9e-86bf-4703-a936-08944273250e",
   "metadata": {},
   "source": [
    "# Load 1.2"
   ]
  },
  {
   "cell_type": "code",
   "execution_count": 2,
   "id": "2e7407a9-658d-45bf-94c4-e5253a39b7d0",
   "metadata": {
    "tags": []
   },
   "outputs": [],
   "source": [
    "destination_path = 'C:/Users/chiny/cjwen/ITI110/'"
   ]
  },
  {
   "cell_type": "code",
   "execution_count": 3,
   "id": "d141110b-391b-4e5b-afdb-b771629bd06b",
   "metadata": {
    "tags": []
   },
   "outputs": [],
   "source": [
    "# df_1_1 = pd.read_csv(destination_path + '1.1 aggregated_hourly_dataset_02112024.csv')\n",
    "df_1_2 = pd.read_csv(destination_path + '1.2 aggregated_hourly_dataset_without_block_id_02112024.csv')\n"
   ]
  },
  {
   "cell_type": "code",
   "execution_count": 4,
   "id": "de593818-a55a-4529-b626-d37696f9fc9f",
   "metadata": {
    "tags": []
   },
   "outputs": [
    {
     "name": "stdout",
     "output_type": "stream",
     "text": [
      "<class 'pandas.core.frame.DataFrame'>\n",
      "RangeIndex: 19864 entries, 0 to 19863\n",
      "Data columns (total 7 columns):\n",
      " #   Column              Non-Null Count  Dtype  \n",
      "---  ------              --------------  -----  \n",
      " 0   date                19864 non-null  object \n",
      " 1   month               19864 non-null  int64  \n",
      " 2   hour                19864 non-null  int64  \n",
      " 3   count_LCLid         19864 non-null  int64  \n",
      " 4   count_block_id      19864 non-null  int64  \n",
      " 5   sum_energy_by_hour  19864 non-null  float64\n",
      " 6   tstp                19864 non-null  object \n",
      "dtypes: float64(1), int64(4), object(2)\n",
      "memory usage: 1.1+ MB\n"
     ]
    }
   ],
   "source": [
    "df_1_2.info()"
   ]
  },
  {
   "cell_type": "code",
   "execution_count": 38,
   "id": "a74c235e-b614-4e66-ad25-674660fbda79",
   "metadata": {
    "tags": []
   },
   "outputs": [],
   "source": [
    "df_1_1['tstp'] = pd.to_datetime(df_1_1['tstp'], format='%Y-%m-%d %H:%M:%S', errors='coerce')\n",
    "df_1_2['tstp'] = pd.to_datetime(df_1_2['tstp'], format='%Y-%m-%d %H:%M:%S', errors='coerce')\n",
    "\n"
   ]
  },
  {
   "cell_type": "code",
   "execution_count": 39,
   "id": "d9fd14e5-fb1b-4afb-ae8d-7a5224915bed",
   "metadata": {
    "tags": []
   },
   "outputs": [
    {
     "data": {
      "text/html": [
       "<div>\n",
       "<style scoped>\n",
       "    .dataframe tbody tr th:only-of-type {\n",
       "        vertical-align: middle;\n",
       "    }\n",
       "\n",
       "    .dataframe tbody tr th {\n",
       "        vertical-align: top;\n",
       "    }\n",
       "\n",
       "    .dataframe thead th {\n",
       "        text-align: right;\n",
       "    }\n",
       "</style>\n",
       "<table border=\"1\" class=\"dataframe\">\n",
       "  <thead>\n",
       "    <tr style=\"text-align: right;\">\n",
       "      <th></th>\n",
       "      <th>date</th>\n",
       "      <th>month</th>\n",
       "      <th>hour</th>\n",
       "      <th>count_LCLid</th>\n",
       "      <th>count_block_id</th>\n",
       "      <th>sum_energy_by_hour</th>\n",
       "      <th>tstp</th>\n",
       "    </tr>\n",
       "  </thead>\n",
       "  <tbody>\n",
       "    <tr>\n",
       "      <th>0</th>\n",
       "      <td>2011-11-23</td>\n",
       "      <td>11</td>\n",
       "      <td>9</td>\n",
       "      <td>2</td>\n",
       "      <td>2</td>\n",
       "      <td>1.130</td>\n",
       "      <td>2011-11-23 09:00:00</td>\n",
       "    </tr>\n",
       "    <tr>\n",
       "      <th>1</th>\n",
       "      <td>2011-11-23</td>\n",
       "      <td>11</td>\n",
       "      <td>10</td>\n",
       "      <td>6</td>\n",
       "      <td>4</td>\n",
       "      <td>1.508</td>\n",
       "      <td>2011-11-23 10:00:00</td>\n",
       "    </tr>\n",
       "  </tbody>\n",
       "</table>\n",
       "</div>"
      ],
      "text/plain": [
       "         date  month  hour  count_LCLid  count_block_id  sum_energy_by_hour  \\\n",
       "0  2011-11-23     11     9            2               2               1.130   \n",
       "1  2011-11-23     11    10            6               4               1.508   \n",
       "\n",
       "                 tstp  \n",
       "0 2011-11-23 09:00:00  \n",
       "1 2011-11-23 10:00:00  "
      ]
     },
     "execution_count": 39,
     "metadata": {},
     "output_type": "execute_result"
    }
   ],
   "source": [
    "df_1_2.head(2)"
   ]
  },
  {
   "cell_type": "markdown",
   "id": "169dacbf-2108-4f7f-b2e1-c0db6216bb8a",
   "metadata": {},
   "source": [
    "# Add avg_energy per LCLid column"
   ]
  },
  {
   "cell_type": "code",
   "execution_count": 40,
   "id": "1e7ccb58-c158-487a-b364-8a0f4b977605",
   "metadata": {
    "tags": []
   },
   "outputs": [],
   "source": [
    "# df_1_1[\"avg_energy_per_lclid\"]=df_1_1[\"sum_energy_by_hour\"]/df_1_1[\"count_LCLid\"]"
   ]
  },
  {
   "cell_type": "code",
   "execution_count": 41,
   "id": "3e9d1710-7841-479e-8921-212af79f6f96",
   "metadata": {
    "tags": []
   },
   "outputs": [],
   "source": [
    "df_1_2[\"avg_energy_per_lclid\"]=df_1_2[\"sum_energy_by_hour\"]/df_1_2[\"count_LCLid\"]"
   ]
  },
  {
   "cell_type": "code",
   "execution_count": 42,
   "id": "c792409d-7f26-4fcc-8e67-f77f0d77e4cf",
   "metadata": {
    "tags": []
   },
   "outputs": [],
   "source": []
  },
  {
   "cell_type": "markdown",
   "id": "e07490be-6cd8-4f56-a2f2-99fc255dbe17",
   "metadata": {},
   "source": [
    "# merge holidays"
   ]
  },
  {
   "cell_type": "code",
   "execution_count": 47,
   "id": "db64d797-f573-4bcd-b68e-62f67ae40fd6",
   "metadata": {
    "tags": []
   },
   "outputs": [],
   "source": [
    "holidays = pd.read_csv(destination_path + \"Raw_data/uk_bank_holidays.csv\")"
   ]
  },
  {
   "cell_type": "code",
   "execution_count": 48,
   "id": "611db15c-6e2c-48a5-9173-df6404c6d18e",
   "metadata": {
    "tags": []
   },
   "outputs": [],
   "source": [
    "holidays[\"holiday\"]=1"
   ]
  },
  {
   "cell_type": "code",
   "execution_count": 49,
   "id": "c64b290e-0cbf-424c-b4b9-c17f660c5e13",
   "metadata": {
    "tags": []
   },
   "outputs": [
    {
     "data": {
      "text/html": [
       "<div>\n",
       "<style scoped>\n",
       "    .dataframe tbody tr th:only-of-type {\n",
       "        vertical-align: middle;\n",
       "    }\n",
       "\n",
       "    .dataframe tbody tr th {\n",
       "        vertical-align: top;\n",
       "    }\n",
       "\n",
       "    .dataframe thead th {\n",
       "        text-align: right;\n",
       "    }\n",
       "</style>\n",
       "<table border=\"1\" class=\"dataframe\">\n",
       "  <thead>\n",
       "    <tr style=\"text-align: right;\">\n",
       "      <th></th>\n",
       "      <th>Bank holidays</th>\n",
       "      <th>Type</th>\n",
       "      <th>holiday</th>\n",
       "    </tr>\n",
       "  </thead>\n",
       "  <tbody>\n",
       "    <tr>\n",
       "      <th>0</th>\n",
       "      <td>2012-12-26</td>\n",
       "      <td>Boxing Day</td>\n",
       "      <td>1</td>\n",
       "    </tr>\n",
       "    <tr>\n",
       "      <th>1</th>\n",
       "      <td>2012-12-25</td>\n",
       "      <td>Christmas Day</td>\n",
       "      <td>1</td>\n",
       "    </tr>\n",
       "    <tr>\n",
       "      <th>2</th>\n",
       "      <td>2012-08-27</td>\n",
       "      <td>Summer bank holiday</td>\n",
       "      <td>1</td>\n",
       "    </tr>\n",
       "    <tr>\n",
       "      <th>3</th>\n",
       "      <td>2012-05-06</td>\n",
       "      <td>Queen?s Diamond Jubilee (extra bank holiday)</td>\n",
       "      <td>1</td>\n",
       "    </tr>\n",
       "    <tr>\n",
       "      <th>4</th>\n",
       "      <td>2012-04-06</td>\n",
       "      <td>Spring bank holiday (substitute day)</td>\n",
       "      <td>1</td>\n",
       "    </tr>\n",
       "    <tr>\n",
       "      <th>5</th>\n",
       "      <td>2012-07-05</td>\n",
       "      <td>Early May bank holiday</td>\n",
       "      <td>1</td>\n",
       "    </tr>\n",
       "    <tr>\n",
       "      <th>6</th>\n",
       "      <td>2012-09-04</td>\n",
       "      <td>Easter Monday</td>\n",
       "      <td>1</td>\n",
       "    </tr>\n",
       "    <tr>\n",
       "      <th>7</th>\n",
       "      <td>2012-06-04</td>\n",
       "      <td>Good Friday</td>\n",
       "      <td>1</td>\n",
       "    </tr>\n",
       "    <tr>\n",
       "      <th>8</th>\n",
       "      <td>2012-02-01</td>\n",
       "      <td>New Year?s Day (substitute day)</td>\n",
       "      <td>1</td>\n",
       "    </tr>\n",
       "    <tr>\n",
       "      <th>9</th>\n",
       "      <td>2013-12-26</td>\n",
       "      <td>Boxing Day</td>\n",
       "      <td>1</td>\n",
       "    </tr>\n",
       "    <tr>\n",
       "      <th>10</th>\n",
       "      <td>2013-12-25</td>\n",
       "      <td>Christmas Day</td>\n",
       "      <td>1</td>\n",
       "    </tr>\n",
       "    <tr>\n",
       "      <th>11</th>\n",
       "      <td>2013-08-26</td>\n",
       "      <td>Summer bank holiday</td>\n",
       "      <td>1</td>\n",
       "    </tr>\n",
       "    <tr>\n",
       "      <th>12</th>\n",
       "      <td>2013-05-27</td>\n",
       "      <td>Spring bank holiday</td>\n",
       "      <td>1</td>\n",
       "    </tr>\n",
       "    <tr>\n",
       "      <th>13</th>\n",
       "      <td>2013-06-05</td>\n",
       "      <td>Early May bank holiday</td>\n",
       "      <td>1</td>\n",
       "    </tr>\n",
       "    <tr>\n",
       "      <th>14</th>\n",
       "      <td>2013-01-04</td>\n",
       "      <td>Easter Monday</td>\n",
       "      <td>1</td>\n",
       "    </tr>\n",
       "    <tr>\n",
       "      <th>15</th>\n",
       "      <td>2013-03-29</td>\n",
       "      <td>Good Friday</td>\n",
       "      <td>1</td>\n",
       "    </tr>\n",
       "    <tr>\n",
       "      <th>16</th>\n",
       "      <td>2013-01-01</td>\n",
       "      <td>New Year?s Day</td>\n",
       "      <td>1</td>\n",
       "    </tr>\n",
       "    <tr>\n",
       "      <th>17</th>\n",
       "      <td>2014-12-26</td>\n",
       "      <td>Boxing Day</td>\n",
       "      <td>1</td>\n",
       "    </tr>\n",
       "    <tr>\n",
       "      <th>18</th>\n",
       "      <td>2014-12-25</td>\n",
       "      <td>Christmas Day</td>\n",
       "      <td>1</td>\n",
       "    </tr>\n",
       "    <tr>\n",
       "      <th>19</th>\n",
       "      <td>2014-08-25</td>\n",
       "      <td>Summer bank holiday</td>\n",
       "      <td>1</td>\n",
       "    </tr>\n",
       "    <tr>\n",
       "      <th>20</th>\n",
       "      <td>2014-05-26</td>\n",
       "      <td>Spring bank holiday</td>\n",
       "      <td>1</td>\n",
       "    </tr>\n",
       "    <tr>\n",
       "      <th>21</th>\n",
       "      <td>2014-05-05</td>\n",
       "      <td>Early May bank holiday</td>\n",
       "      <td>1</td>\n",
       "    </tr>\n",
       "    <tr>\n",
       "      <th>22</th>\n",
       "      <td>2014-04-21</td>\n",
       "      <td>Easter Monday</td>\n",
       "      <td>1</td>\n",
       "    </tr>\n",
       "    <tr>\n",
       "      <th>23</th>\n",
       "      <td>2014-04-18</td>\n",
       "      <td>Good Friday</td>\n",
       "      <td>1</td>\n",
       "    </tr>\n",
       "    <tr>\n",
       "      <th>24</th>\n",
       "      <td>2014-01-01</td>\n",
       "      <td>New Year?s Day</td>\n",
       "      <td>1</td>\n",
       "    </tr>\n",
       "  </tbody>\n",
       "</table>\n",
       "</div>"
      ],
      "text/plain": [
       "   Bank holidays                                          Type  holiday\n",
       "0     2012-12-26                                    Boxing Day        1\n",
       "1     2012-12-25                                 Christmas Day        1\n",
       "2     2012-08-27                           Summer bank holiday        1\n",
       "3     2012-05-06  Queen?s Diamond Jubilee (extra bank holiday)        1\n",
       "4     2012-04-06          Spring bank holiday (substitute day)        1\n",
       "5     2012-07-05                        Early May bank holiday        1\n",
       "6     2012-09-04                                 Easter Monday        1\n",
       "7     2012-06-04                                   Good Friday        1\n",
       "8     2012-02-01               New Year?s Day (substitute day)        1\n",
       "9     2013-12-26                                    Boxing Day        1\n",
       "10    2013-12-25                                 Christmas Day        1\n",
       "11    2013-08-26                           Summer bank holiday        1\n",
       "12    2013-05-27                           Spring bank holiday        1\n",
       "13    2013-06-05                        Early May bank holiday        1\n",
       "14    2013-01-04                                 Easter Monday        1\n",
       "15    2013-03-29                                   Good Friday        1\n",
       "16    2013-01-01                                New Year?s Day        1\n",
       "17    2014-12-26                                    Boxing Day        1\n",
       "18    2014-12-25                                 Christmas Day        1\n",
       "19    2014-08-25                           Summer bank holiday        1\n",
       "20    2014-05-26                           Spring bank holiday        1\n",
       "21    2014-05-05                        Early May bank holiday        1\n",
       "22    2014-04-21                                 Easter Monday        1\n",
       "23    2014-04-18                                   Good Friday        1\n",
       "24    2014-01-01                                New Year?s Day        1"
      ]
     },
     "execution_count": 49,
     "metadata": {},
     "output_type": "execute_result"
    }
   ],
   "source": [
    "holidays"
   ]
  },
  {
   "cell_type": "code",
   "execution_count": 50,
   "id": "e8a8fc48-0caf-4dfe-8325-f74bb63ba01b",
   "metadata": {
    "tags": []
   },
   "outputs": [],
   "source": [
    "holidays[\"Bank holidays\"] = pd.to_datetime(holidays[\"Bank holidays\"], format='%Y-%m-%d', errors='coerce')"
   ]
  },
  {
   "cell_type": "code",
   "execution_count": 51,
   "id": "073babd6-e935-4ce4-bf6e-a0391653c5f6",
   "metadata": {
    "tags": []
   },
   "outputs": [
    {
     "name": "stdout",
     "output_type": "stream",
     "text": [
      "<class 'pandas.core.frame.DataFrame'>\n",
      "RangeIndex: 25 entries, 0 to 24\n",
      "Data columns (total 3 columns):\n",
      " #   Column         Non-Null Count  Dtype         \n",
      "---  ------         --------------  -----         \n",
      " 0   Bank holidays  25 non-null     datetime64[ns]\n",
      " 1   Type           25 non-null     object        \n",
      " 2   holiday        25 non-null     int64         \n",
      "dtypes: datetime64[ns](1), int64(1), object(1)\n",
      "memory usage: 732.0+ bytes\n"
     ]
    }
   ],
   "source": [
    "holidays.info()"
   ]
  },
  {
   "cell_type": "code",
   "execution_count": 52,
   "id": "b8844ee7-0ecc-45b2-b334-157a6b2ac56c",
   "metadata": {
    "tags": []
   },
   "outputs": [],
   "source": [
    "# df_1_1_merge_hols = pd.merge(df_1_1, holidays, left_on = \"tstp\", right_on = \"Bank holidays\", how = \"left\")\n",
    "df_1_2_merge_hols = pd.merge(df_1_2, holidays, left_on = \"tstp\", right_on = \"Bank holidays\", how = \"left\")\n",
    "\n"
   ]
  },
  {
   "cell_type": "code",
   "execution_count": 54,
   "id": "cc0b850f-ec73-472b-a2bc-bdf62016d314",
   "metadata": {
    "tags": []
   },
   "outputs": [],
   "source": [
    "# df_1_1_merge_hols[\"holiday\"].fillna(0,inplace=True)\n",
    "df_1_2_merge_hols[\"holiday\"].fillna(0,inplace=True)\n"
   ]
  },
  {
   "cell_type": "code",
   "execution_count": 55,
   "id": "f044aa18-d985-4a45-a2a2-86bb685eab9a",
   "metadata": {
    "tags": []
   },
   "outputs": [
    {
     "data": {
      "text/html": [
       "<div>\n",
       "<style scoped>\n",
       "    .dataframe tbody tr th:only-of-type {\n",
       "        vertical-align: middle;\n",
       "    }\n",
       "\n",
       "    .dataframe tbody tr th {\n",
       "        vertical-align: top;\n",
       "    }\n",
       "\n",
       "    .dataframe thead th {\n",
       "        text-align: right;\n",
       "    }\n",
       "</style>\n",
       "<table border=\"1\" class=\"dataframe\">\n",
       "  <thead>\n",
       "    <tr style=\"text-align: right;\">\n",
       "      <th></th>\n",
       "      <th>date</th>\n",
       "      <th>month</th>\n",
       "      <th>count_LCLid</th>\n",
       "      <th>count_block_id</th>\n",
       "      <th>sum_energy_by_day</th>\n",
       "      <th>avg_energy_per_lclid</th>\n",
       "      <th>Bank holidays</th>\n",
       "      <th>Type</th>\n",
       "      <th>holiday</th>\n",
       "    </tr>\n",
       "  </thead>\n",
       "  <tbody>\n",
       "    <tr>\n",
       "      <th>763</th>\n",
       "      <td>2013-12-25</td>\n",
       "      <td>12</td>\n",
       "      <td>5082</td>\n",
       "      <td>112</td>\n",
       "      <td>63990.164991</td>\n",
       "      <td>12.591532</td>\n",
       "      <td>2013-12-25</td>\n",
       "      <td>Christmas Day</td>\n",
       "      <td>1.0</td>\n",
       "    </tr>\n",
       "  </tbody>\n",
       "</table>\n",
       "</div>"
      ],
      "text/plain": [
       "          date  month  count_LCLid  count_block_id  sum_energy_by_day  \\\n",
       "763 2013-12-25     12         5082             112       63990.164991   \n",
       "\n",
       "     avg_energy_per_lclid Bank holidays           Type  holiday  \n",
       "763             12.591532    2013-12-25  Christmas Day      1.0  "
      ]
     },
     "execution_count": 55,
     "metadata": {},
     "output_type": "execute_result"
    }
   ],
   "source": [
    "#verify by checking one of the holidays\n"
   ]
  },
  {
   "cell_type": "code",
   "execution_count": 56,
   "id": "dcf9e224-e888-4bf0-8cbd-aaf68cd4d2be",
   "metadata": {
    "tags": []
   },
   "outputs": [],
   "source": [
    "columns_to_drop = [\"Bank holidays\", \"Type\"]\n",
    "# df_1_1_merge_hols.drop(columns=columns_to_drop, axis=1, inplace=True)\n",
    "df_1_2_merge_hols.drop(columns=columns_to_drop, axis=1, inplace=True)\n"
   ]
  },
  {
   "cell_type": "markdown",
   "id": "d944d99f-5381-4811-bca0-3dfde2c699e7",
   "metadata": {},
   "source": [
    "# Merge weather data"
   ]
  },
  {
   "cell_type": "code",
   "execution_count": 57,
   "id": "ef4597d0-7f11-4924-aee2-8140d80cd90a",
   "metadata": {
    "tags": []
   },
   "outputs": [],
   "source": [
    "weather = pd.read_csv(destination_path + 'Raw_data/weather_hourly_darksky.csv')"
   ]
  },
  {
   "cell_type": "code",
   "execution_count": 58,
   "id": "ad7f9347-61b4-4f16-967b-4308c3fe4d4e",
   "metadata": {
    "tags": []
   },
   "outputs": [],
   "source": [
    "weather['time'] = pd.to_datetime(weather['time'], format='%Y-%m-%d %H:%M:%S', errors='coerce')\n"
   ]
  },
  {
   "cell_type": "code",
   "execution_count": 59,
   "id": "a5d78924-e0e1-407f-b630-2191838d74c3",
   "metadata": {
    "tags": []
   },
   "outputs": [],
   "source": [
    "df_1_1_merged_df = pd.merge(df_1_1_merge_hols, weather, left_on = \"tstp\", right_on = \"time\", how = \"left\")\n",
    "df_1_2_merged_df = pd.merge(df_1_2_merge_hols, weather, left_on = \"tstp\", right_on = \"time\", how = \"left\")\n"
   ]
  },
  {
   "cell_type": "code",
   "execution_count": 65,
   "id": "6cba84a1-2d62-4fcd-8f51-e080e8652e6c",
   "metadata": {
    "tags": []
   },
   "outputs": [
    {
     "data": {
      "text/plain": [
       "date                     0\n",
       "month                    0\n",
       "hour                     0\n",
       "count_LCLid              0\n",
       "count_block_id           0\n",
       "sum_energy_by_hour       0\n",
       "tstp                     0\n",
       "avg_energy_per_lclid     0\n",
       "holiday                  0\n",
       "visibility               2\n",
       "windBearing              2\n",
       "temperature              2\n",
       "time                     2\n",
       "dewPoint                 2\n",
       "pressure                13\n",
       "apparentTemperature      2\n",
       "windSpeed                2\n",
       "precipType               2\n",
       "icon                     2\n",
       "humidity                 2\n",
       "summary                  2\n",
       "dtype: int64"
      ]
     },
     "execution_count": 65,
     "metadata": {},
     "output_type": "execute_result"
    }
   ],
   "source": [
    "df_1_2_merged_df.isnull().sum()"
   ]
  },
  {
   "cell_type": "code",
   "execution_count": 63,
   "id": "51c33ef3-b763-4826-b3a7-fa924e9ad26b",
   "metadata": {
    "tags": []
   },
   "outputs": [],
   "source": [
    "df_1_2_merged_df.to_csv(destination_path + '2.2 merged_aggregated_hourly_without_block_id.csv', index=False)"
   ]
  },
  {
   "cell_type": "code",
   "execution_count": 64,
   "id": "27ae773b-b7c8-425b-bccc-f97517907419",
   "metadata": {
    "tags": []
   },
   "outputs": [],
   "source": []
  },
  {
   "cell_type": "code",
   "execution_count": null,
   "id": "b527bb37-66ed-4a25-9fba-0edd72fdc87b",
   "metadata": {},
   "outputs": [],
   "source": []
  }
 ],
 "metadata": {
  "kernelspec": {
   "display_name": "Python 3 (ipykernel)",
   "language": "python",
   "name": "python3"
  },
  "language_info": {
   "codemirror_mode": {
    "name": "ipython",
    "version": 3
   },
   "file_extension": ".py",
   "mimetype": "text/x-python",
   "name": "python",
   "nbconvert_exporter": "python",
   "pygments_lexer": "ipython3",
   "version": "3.11.5"
  }
 },
 "nbformat": 4,
 "nbformat_minor": 5
}
